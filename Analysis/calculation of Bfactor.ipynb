{
 "cells": [
  {
   "cell_type": "code",
   "execution_count": 28,
   "id": "f45129a5",
   "metadata": {},
   "outputs": [
    {
     "name": "stdout",
     "output_type": "stream",
     "text": [
      "36.29464839814638 36.1423543307087 36.34702139182239\n"
     ]
    }
   ],
   "source": [
    "import math\n",
    "\n",
    "\n",
    "def remove_items(test_list, item):\n",
    "    # remove the item for all its occurrences\n",
    "    c = test_list.count(item)\n",
    "    for i in range(c):\n",
    "        test_list.remove(item)\n",
    " \n",
    "    return test_list\n",
    "\n",
    "def Avg(lst):\n",
    "    return sum(lst) / len(lst)\n",
    "\n",
    "def convert_water_to_pdb(W_id): # W_id is only 5 characters: B0026\n",
    "    W_id_a = W_id[0]\n",
    "    W_id_b = W_id[1:5]\n",
    "    W_id = W_id_a + str(int(W_id_b))\n",
    "    \n",
    "    W_id = list(W_id)\n",
    "    while len(W_id) <5:\n",
    "        W_id.insert(1, ' ')\n",
    "    W_id = ''.join(W_id)\n",
    "    w_pdb = 'O   HOH ' + W_id\n",
    "    return w_pdb\n",
    "\n",
    "def bfact(wid):\n",
    "    for l in pdb_data:\n",
    "        if wid in l and 'HETATM' in l:\n",
    "            bf = float(l[60:66].strip())\n",
    "            return bf\n",
    "        elif wid not in l and 'HETATM' in l:\n",
    "            n_wid1 = 'O  AHOH ' + wid[-5:]\n",
    "            if n_wid1 in l:\n",
    "                bf = float(l[60:66].strip())\n",
    "                return bf\n",
    "            \n",
    "\n",
    "#total_bf = []\n",
    "all_bf = []\n",
    "cyclic_bf = []\n",
    "noncyclic_bf = []\n",
    "\n",
    "file = open('output_ALL.txt', 'r')\n",
    "data = file.readlines()\n",
    "for lines in data:\n",
    "    AA_info = []\n",
    "    NT_info = []\n",
    "    if 'pdb' in lines:\n",
    "        #print(lines)\n",
    "        #print(lines.split('.')[0].split(' ')[2] + '.ent')\n",
    "        pdb_file = open(lines.split('.')[0].split(' ')[2] + '.ent')\n",
    "        pdb_data = pdb_file.readlines()\n",
    "        '''\n",
    "        for i in pdb_data: \n",
    "            if 'HETATM' in i and 'HOH' in i:\n",
    "                bf1 = float(i[60:66].strip())\n",
    "                total_bf.append(bf1)\n",
    "        '''\n",
    "                \n",
    "    if 'pdb' not in lines and 'HOH' in lines:\n",
    "        W_id = lines.split('-')[0]\n",
    "        water_id = convert_water_to_pdb(W_id)\n",
    "        a_bf = bfact(water_id)\n",
    "        all_bf.append(a_bf)\n",
    "        if 'NIL' in lines: \n",
    "            nc_bf = bfact(water_id)\n",
    "            noncyclic_bf.append(nc_bf)\n",
    "        if 'NIL' not in lines:\n",
    "            c_bf = bfact(water_id)\n",
    "            cyclic_bf.append(c_bf)\n",
    "            \n",
    "x = str(Avg(all_bf)) + ' ' + str(Avg(cyclic_bf)) + ' ' + str(Avg(noncyclic_bf))\n",
    "print(x)"
   ]
  },
  {
   "cell_type": "code",
   "execution_count": 2,
   "id": "74ebb150",
   "metadata": {},
   "outputs": [],
   "source": [
    "x = str(Avg(all_bf)) + ' ' + str(Avg(cyclic_bf)) + ' ' + str(Avg(noncyclic_bf))"
   ]
  },
  {
   "cell_type": "code",
   "execution_count": 3,
   "id": "362ba158",
   "metadata": {},
   "outputs": [
    {
     "data": {
      "text/plain": [
       "'37.29187845303866 37.56804597701148 37.23115417017694'"
      ]
     },
     "execution_count": 3,
     "metadata": {},
     "output_type": "execute_result"
    }
   ],
   "source": [
    " + ' ' + str(Avg(noncyclic_bf))"
   ]
  },
  {
   "cell_type": "code",
   "execution_count": 9,
   "id": "2d8fcda9",
   "metadata": {},
   "outputs": [
    {
     "name": "stdout",
     "output_type": "stream",
     "text": [
      "41.20452776722894\n"
     ]
    }
   ],
   "source": [
    "print(Avg(total_bf))"
   ]
  },
  {
   "cell_type": "code",
   "execution_count": 11,
   "id": "5e32290d",
   "metadata": {},
   "outputs": [
    {
     "data": {
      "text/plain": [
       "522"
      ]
     },
     "execution_count": 11,
     "metadata": {},
     "output_type": "execute_result"
    }
   ],
   "source": [
    "len(cyclic_bf)"
   ]
  },
  {
   "cell_type": "code",
   "execution_count": 51,
   "id": "9cccd469",
   "metadata": {},
   "outputs": [],
   "source": [
    "water_id = 'O   HOH A1184' "
   ]
  },
  {
   "cell_type": "code",
   "execution_count": 52,
   "id": "c5db6d09",
   "metadata": {},
   "outputs": [],
   "source": [
    "n_water_id = 'O  AHOH ' + water_id[-5:]"
   ]
  },
  {
   "cell_type": "code",
   "execution_count": 53,
   "id": "1d3c2728",
   "metadata": {},
   "outputs": [
    {
     "data": {
      "text/plain": [
       "'O  AHOH A1184'"
      ]
     },
     "execution_count": 53,
     "metadata": {},
     "output_type": "execute_result"
    }
   ],
   "source": [
    "n_water_id"
   ]
  },
  {
   "cell_type": "code",
   "execution_count": 18,
   "id": "203050e4",
   "metadata": {},
   "outputs": [],
   "source": [
    "import os"
   ]
  },
  {
   "cell_type": "code",
   "execution_count": 21,
   "id": "42a40f42",
   "metadata": {},
   "outputs": [],
   "source": [
    "path = os.getcwd()\n",
    "files = os.listdir(path)\n",
    "p_files = []\n",
    "for i in files: \n",
    "    if '.ent' in i:\n",
    "        p_files.append(i)"
   ]
  },
  {
   "cell_type": "code",
   "execution_count": 22,
   "id": "d24f0515",
   "metadata": {},
   "outputs": [
    {
     "data": {
      "text/plain": [
       "329"
      ]
     },
     "execution_count": 22,
     "metadata": {},
     "output_type": "execute_result"
    }
   ],
   "source": [
    "len(p_files)"
   ]
  },
  {
   "cell_type": "code",
   "execution_count": 26,
   "id": "134cd3c5",
   "metadata": {},
   "outputs": [],
   "source": [
    "total = []\n",
    "for p in p_files:\n",
    "    pdb_file = open(p)\n",
    "    pdb_data = pdb_file.readlines()\n",
    "    for i in pdb_data: \n",
    "        if 'HETATM' in i and 'HOH' in i:\n",
    "            tbf = float(i[60:66].strip())\n",
    "            total.append(tbf)"
   ]
  },
  {
   "cell_type": "code",
   "execution_count": 27,
   "id": "5bef735d",
   "metadata": {},
   "outputs": [
    {
     "data": {
      "text/plain": [
       "41.41419033536114"
      ]
     },
     "execution_count": 27,
     "metadata": {},
     "output_type": "execute_result"
    }
   ],
   "source": [
    "Avg(total)"
   ]
  },
  {
   "cell_type": "code",
   "execution_count": null,
   "id": "8539781b",
   "metadata": {},
   "outputs": [],
   "source": []
  },
  {
   "cell_type": "code",
   "execution_count": null,
   "id": "519ba58c",
   "metadata": {},
   "outputs": [],
   "source": []
  },
  {
   "cell_type": "code",
   "execution_count": null,
   "id": "44310e4d",
   "metadata": {},
   "outputs": [],
   "source": [
    "\n",
    "    "
   ]
  },
  {
   "cell_type": "code",
   "execution_count": null,
   "id": "cc7f3bbf",
   "metadata": {},
   "outputs": [],
   "source": []
  },
  {
   "cell_type": "code",
   "execution_count": null,
   "id": "80ab814a",
   "metadata": {},
   "outputs": [],
   "source": []
  },
  {
   "cell_type": "code",
   "execution_count": null,
   "id": "ba2a7d21",
   "metadata": {},
   "outputs": [],
   "source": []
  },
  {
   "cell_type": "code",
   "execution_count": null,
   "id": "ae17d35d",
   "metadata": {},
   "outputs": [],
   "source": []
  },
  {
   "cell_type": "code",
   "execution_count": null,
   "id": "5cc5916c",
   "metadata": {},
   "outputs": [],
   "source": []
  }
 ],
 "metadata": {
  "kernelspec": {
   "display_name": "Python 3 (ipykernel)",
   "language": "python",
   "name": "python3"
  },
  "language_info": {
   "codemirror_mode": {
    "name": "ipython",
    "version": 3
   },
   "file_extension": ".py",
   "mimetype": "text/x-python",
   "name": "python",
   "nbconvert_exporter": "python",
   "pygments_lexer": "ipython3",
   "version": "3.12.4"
  }
 },
 "nbformat": 4,
 "nbformat_minor": 5
}
